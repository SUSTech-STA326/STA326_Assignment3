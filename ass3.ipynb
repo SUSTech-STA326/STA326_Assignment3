{
 "cells": [
  {
   "cell_type": "markdown",
   "metadata": {},
   "source": [
    "# Preparation"
   ]
  },
  {
   "cell_type": "code",
   "execution_count": 1,
   "metadata": {},
   "outputs": [
    {
     "data": {
      "text/plain": [
       "'2.3.0a0+6ddf5cf85e.nv24.04'"
      ]
     },
     "execution_count": 1,
     "metadata": {},
     "output_type": "execute_result"
    }
   ],
   "source": [
    "import torch\n",
    "torch.__version__"
   ]
  },
  {
   "cell_type": "code",
   "execution_count": 2,
   "metadata": {},
   "outputs": [],
   "source": [
    "import os\n",
    "import pandas as pd\n",
    "import numpy as np\n",
    "import random\n",
    "from torch import nn\n",
    "\n",
    "from torch.utils.data import Dataset, DataLoader\n",
    "from tqdm import tqdm\n",
    "\n",
    "from model import *\n",
    "from dataset import *\n",
    "from train import *"
   ]
  },
  {
   "cell_type": "code",
   "execution_count": null,
   "metadata": {},
   "outputs": [
    {
     "name": "stdout",
     "output_type": "stream",
     "text": [
      "Using cuda device\n"
     ]
    }
   ],
   "source": [
    "device = (\n",
    "    \"cuda\"\n",
    "    if torch.cuda.is_available()\n",
    "    else \"mps\"\n",
    "    if torch.backends.mps.is_available()\n",
    "    else \"cpu\"\n",
    ")\n",
    "print(f\"Using {device} device\")"
   ]
  },
  {
   "cell_type": "code",
   "execution_count": null,
   "metadata": {},
   "outputs": [],
   "source": [
    "BATCH_SIZE = 256\n",
    "NUMEPOCHS = 50"
   ]
  },
  {
   "cell_type": "code",
   "execution_count": null,
   "metadata": {},
   "outputs": [],
   "source": [
    "# import pandas as pd\n",
    "# df = pd.read_csv(\"Data/ml-1m.train.rating\",sep='\\t', header=None, names=['uid', 'mid', 'rating', 'timestamp'], engine='python')\n",
    "# df"
   ]
  },
  {
   "cell_type": "code",
   "execution_count": null,
   "metadata": {},
   "outputs": [],
   "source": [
    "# df2 = pd.read_csv(\"Data/ml-1m.test.negative\",sep = \"\\t\",header=None)\n",
    "# df2"
   ]
  },
  {
   "cell_type": "markdown",
   "metadata": {},
   "source": [
    "# Trian and Test"
   ]
  },
  {
   "cell_type": "markdown",
   "metadata": {},
   "source": [
    "### Compare the three methods "
   ]
  },
  {
   "cell_type": "code",
   "execution_count": null,
   "metadata": {},
   "outputs": [],
   "source": [
    "# model_config_mf = {\n",
    "#     \"model_mark\": \"gmf(mf_dim=8)\",\n",
    "#     'embedding_dim_mf': 8,\n",
    "#     # \"mlp_layers(X)\" : 0,\n",
    "#     # 'mlp_layers': [ 32, 16, 8],\n",
    "#     'model_type': 'GMF'     #　MLP, NeuMF\n",
    "# }\n",
    "\n",
    "# model_config_mlp = {\n",
    "#     \"model_mark\": \"mlp(mlp_layer=3)\",\n",
    "#     \"mlp_layers(X)\" : 3,\n",
    "#     'mlp_layers': [64, 32, 16, 8],\n",
    "#     'model_type': 'MLP'     #　MLP, NeuMF\n",
    "# }\n",
    "\n",
    "# model_config_neumf = {\n",
    "#     \"model_mark\": \"neumf(mf_dim=8,mlp_layer=3)\",\n",
    "#     'embedding_dim_mf': 8,\n",
    "#     \"mlp_layers(X)\" : 3,\n",
    "#     'mlp_layers': [64, 32, 16, 8],\n",
    "#     'model_type': 'NeuMF'     #　MLP, NeuMF\n",
    "# }\n",
    "\n",
    "# model_train(model_config_mf, seed = 42, num_of_negatives=4, num_of_epochs = 40)\n"
   ]
  },
  {
   "cell_type": "code",
   "execution_count": null,
   "metadata": {},
   "outputs": [],
   "source": [
    "# model_train(model_config_mlp, seed = 42, num_of_negatives=4, num_of_epochs=40)\n"
   ]
  },
  {
   "cell_type": "code",
   "execution_count": null,
   "metadata": {},
   "outputs": [],
   "source": [
    "# model_train(model_config_neumf, seed = 42, num_of_negatives=4, num_of_epochs=40)\n"
   ]
  },
  {
   "cell_type": "markdown",
   "metadata": {},
   "source": [
    "for movielens\n",
    "\n",
    "HR, NDCG\n",
    "\n",
    "-   GMF(Factor-8, X-0): 0.6339, 0.3621\n",
    "-   MLP(Factor-8, X-3): 0.6109, 0.3434\n",
    "-   NeuMF(Factor-8, X-3): 0.6474, 0.3731"
   ]
  },
  {
   "cell_type": "markdown",
   "metadata": {},
   "source": [
    "## Reproduce the ablation study --- MLP with different layers"
   ]
  },
  {
   "cell_type": "markdown",
   "metadata": {},
   "source": [
    " K: 8\n",
    " \n",
    " layers (X): 0, 1, 2, 3, 4"
   ]
  },
  {
   "cell_type": "code",
   "execution_count": null,
   "metadata": {},
   "outputs": [],
   "source": [
    "model_config_mlp0 = {\n",
    "    \"model_mark\": \"mlp(mlp_layer=0)\",\n",
    "    \"mlp_layers(X)\" : 0,\n",
    "    'mlp_layers': [8],\n",
    "    'model_type': 'MLP'     #　MLP, NeuMF\n",
    "}\n",
    "\n",
    "model_config_mlp1 = {\n",
    "    \"model_mark\": \"mlp(mlp_layer=1)\",\n",
    "    \"mlp_layers(X)\" : 1,\n",
    "    'mlp_layers': [16,8],\n",
    "    'model_type': 'MLP'     #　MLP, NeuMF\n",
    "}\n",
    "\n",
    "#! [8][:-1],[8][1:]    # ([], [])\n",
    "#! [8,16][:-1],[8,16][1:]  # ([8], [16])\n",
    "\n",
    "model_config_mlp2 = {\n",
    "    \"model_mark\": \"mlp(mlp_layer=2)\",\n",
    "    \"mlp_layers(X)\" : 2,\n",
    "    'mlp_layers': [32,16, 8],\n",
    "    'model_type': 'MLP'     #　MLP, NeuMF\n",
    "}\n",
    "\n",
    "model_config_mlp3 = {\n",
    "    \"model_mark\": \"mlp(mlp_layer=3)\",\n",
    "    \"mlp_layers(X)\" : 3,\n",
    "    'mlp_layers': [64,32, 16, 8],\n",
    "    'model_type': 'MLP'     #　MLP, NeuMF\n",
    "}\n",
    "\n",
    "model_config_mlp4 = {\n",
    "    \"model_mark\": \"mlp(mlp_layer=4)\",\n",
    "    \"mlp_layers(X)\" : 4,\n",
    "    'mlp_layers': [128,64, 32, 16, 8],\n",
    "    'model_type': 'MLP'     #　MLP, NeuMF\n",
    "}\n",
    "\n",
    "# model_train(model_config_mlp0, seed = 42, num_of_negatives=4, num_of_epochs=40)\n"
   ]
  },
  {
   "cell_type": "code",
   "execution_count": null,
   "metadata": {},
   "outputs": [],
   "source": [
    "# model_train(model_config_mlp1, seed = 42, num_of_negatives=4, num_of_epochs=40)\n"
   ]
  },
  {
   "cell_type": "code",
   "execution_count": null,
   "metadata": {},
   "outputs": [],
   "source": [
    "# model_train(model_config_mlp2, seed = 42, num_of_negatives=4, num_of_epochs=40)\n"
   ]
  },
  {
   "cell_type": "code",
   "execution_count": null,
   "metadata": {},
   "outputs": [],
   "source": [
    "# model_train(model_config_mlp3, seed = 42, num_of_negatives=4, num_of_epochs=40)\n"
   ]
  },
  {
   "cell_type": "code",
   "execution_count": null,
   "metadata": {},
   "outputs": [],
   "source": [
    "# model_train(model_config_mlp4, seed = 42, num_of_negatives=4, num_of_epochs=40)\n"
   ]
  },
  {
   "cell_type": "markdown",
   "metadata": {},
   "source": [
    "HR, NDCG\n",
    "\n",
    "-   MLP0: 0.4538, 0.2525\n",
    "-   MLP1: 0.5197, 0.2901\n",
    "-   MLP2: 0.5745, 0.3196\n",
    "-   MLP3: 0.6109, 0.3434\n",
    "-   MLP4: 0.6278, 0.3554"
   ]
  },
  {
   "cell_type": "markdown",
   "metadata": {},
   "source": [
    "# Plot"
   ]
  },
  {
   "cell_type": "markdown",
   "metadata": {},
   "source": [
    "### 3 models"
   ]
  },
  {
   "cell_type": "code",
   "execution_count": 3,
   "metadata": {},
   "outputs": [],
   "source": [
    "import seaborn as sns\n",
    "import matplotlib.pyplot as plt\n",
    "# plt.rcParams['font.sans-serif'] = ['Microsoft YaHei']"
   ]
  },
  {
   "cell_type": "code",
   "execution_count": 4,
   "metadata": {},
   "outputs": [
    {
     "data": {
      "text/html": [
       "<div>\n",
       "<style scoped>\n",
       "    .dataframe tbody tr th:only-of-type {\n",
       "        vertical-align: middle;\n",
       "    }\n",
       "\n",
       "    .dataframe tbody tr th {\n",
       "        vertical-align: top;\n",
       "    }\n",
       "\n",
       "    .dataframe thead th {\n",
       "        text-align: right;\n",
       "    }\n",
       "</style>\n",
       "<table border=\"1\" class=\"dataframe\">\n",
       "  <thead>\n",
       "    <tr style=\"text-align: right;\">\n",
       "      <th></th>\n",
       "      <th>Model</th>\n",
       "      <th>Metric</th>\n",
       "      <th>Value</th>\n",
       "    </tr>\n",
       "  </thead>\n",
       "  <tbody>\n",
       "    <tr>\n",
       "      <th>0</th>\n",
       "      <td>GMF</td>\n",
       "      <td>HR@10</td>\n",
       "      <td>0.6339</td>\n",
       "    </tr>\n",
       "    <tr>\n",
       "      <th>1</th>\n",
       "      <td>GMF</td>\n",
       "      <td>NDCG@10</td>\n",
       "      <td>0.3621</td>\n",
       "    </tr>\n",
       "    <tr>\n",
       "      <th>2</th>\n",
       "      <td>MLP</td>\n",
       "      <td>HR@10</td>\n",
       "      <td>0.6109</td>\n",
       "    </tr>\n",
       "    <tr>\n",
       "      <th>3</th>\n",
       "      <td>MLP</td>\n",
       "      <td>NDCG@10</td>\n",
       "      <td>0.3434</td>\n",
       "    </tr>\n",
       "    <tr>\n",
       "      <th>4</th>\n",
       "      <td>NeuMF</td>\n",
       "      <td>HR@10</td>\n",
       "      <td>0.6474</td>\n",
       "    </tr>\n",
       "    <tr>\n",
       "      <th>5</th>\n",
       "      <td>NeuMF</td>\n",
       "      <td>NDCG@10</td>\n",
       "      <td>0.3731</td>\n",
       "    </tr>\n",
       "  </tbody>\n",
       "</table>\n",
       "</div>"
      ],
      "text/plain": [
       "   Model   Metric   Value\n",
       "0    GMF    HR@10  0.6339\n",
       "1    GMF  NDCG@10  0.3621\n",
       "2    MLP    HR@10  0.6109\n",
       "3    MLP  NDCG@10  0.3434\n",
       "4  NeuMF    HR@10  0.6474\n",
       "5  NeuMF  NDCG@10  0.3731"
      ]
     },
     "execution_count": 4,
     "metadata": {},
     "output_type": "execute_result"
    }
   ],
   "source": [
    "df1 = pd.DataFrame({\n",
    "    \"Name\":[\"GMF\",\"MLP\",\"NeuMF\"],\n",
    "    \"HR@10\":[0.6339,0.6109,0.6474],\n",
    "    \"NDCG@10\": [0.3621, 0.3434, 0.3731]\n",
    "    }\n",
    ")\n",
    "df1 = df1.loc[:,[\"HR@10\",\"NDCG@10\"]].stack().reset_index().rename(columns={\"level_1\":\"Metric\",0:\"Value\",\"level_0\":\"Model\"})\n",
    "df1[\"Model\"] = df1[\"Model\"].map({0:\"GMF\",1:\"MLP\",2:\"NeuMF\"})\n",
    "df1"
   ]
  },
  {
   "cell_type": "code",
   "execution_count": 5,
   "metadata": {},
   "outputs": [],
   "source": [
    "color_list = [\"#10323a\",\"#569a4d\"]\n",
    "custom_palette = sns.color_palette(color_list)"
   ]
  },
  {
   "cell_type": "code",
   "execution_count": 7,
   "metadata": {},
   "outputs": [
    {
     "data": {
      "image/png": "[encoded data removed]",
      "text/plain": [
       "<Figure size 650x350 with 1 Axes>"
      ]
     },
     "metadata": {},
     "output_type": "display_data"
    }
   ],
   "source": [
    "with plt.style.context(\"fivethirtyeight\"), sns.plotting_context(context=\"paper\"):\n",
    "    fig = plt.figure(figsize=(6.5, 3.5))\n",
    "    bar = sns.barplot(data = df1,x = 'Model', y = 'Value', hue = 'Metric',width = 0.7,palette = custom_palette)\n",
    "    plt.legend(bbox_to_anchor=(0.5,0.9),loc = \"upper center\",ncol = 2,fontsize = 10, frameon = False,bbox_transform=fig.transFigure )\n",
    "    plt.ylim(0,0.7)\n",
    "    plt.title(\"The value of two metrics of models\",fontsize = 17,x = 0.47,y = 1.05)\n",
    "        # 在柱形图上标注数值\n",
    "    for p in bar.patches:\n",
    "        bar.annotate(format(p.get_height(), '.2f'), \n",
    "                     (p.get_x() + p.get_width() / 2., p.get_height()), \n",
    "                     ha = 'center', va = 'center', \n",
    "                     xytext = (-0.5, -12), \n",
    "                     textcoords = 'offset points',\n",
    "                     fontsize = 10,\n",
    "                     color = \"white\")\n",
    "    plt.grid(False)\n",
    "    plt.tight_layout()\n",
    "    plt.show()\n",
    "    fig.savefig(\"report/3models.svg\")"
   ]
  },
  {
   "cell_type": "markdown",
   "metadata": {},
   "source": [
    "### mlp layers"
   ]
  },
  {
   "cell_type": "code",
   "execution_count": 8,
   "metadata": {},
   "outputs": [
    {
     "data": {
      "text/html": [
       "<div>\n",
       "<style scoped>\n",
       "    .dataframe tbody tr th:only-of-type {\n",
       "        vertical-align: middle;\n",
       "    }\n",
       "\n",
       "    .dataframe tbody tr th {\n",
       "        vertical-align: top;\n",
       "    }\n",
       "\n",
       "    .dataframe thead th {\n",
       "        text-align: right;\n",
       "    }\n",
       "</style>\n",
       "<table border=\"1\" class=\"dataframe\">\n",
       "  <thead>\n",
       "    <tr style=\"text-align: right;\">\n",
       "      <th></th>\n",
       "      <th>Model</th>\n",
       "      <th>Metric</th>\n",
       "      <th>Value</th>\n",
       "    </tr>\n",
       "  </thead>\n",
       "  <tbody>\n",
       "    <tr>\n",
       "      <th>0</th>\n",
       "      <td>MLP0</td>\n",
       "      <td>HR@10</td>\n",
       "      <td>0.4538</td>\n",
       "    </tr>\n",
       "    <tr>\n",
       "      <th>1</th>\n",
       "      <td>MLP0</td>\n",
       "      <td>NDCG@10</td>\n",
       "      <td>0.2525</td>\n",
       "    </tr>\n",
       "    <tr>\n",
       "      <th>2</th>\n",
       "      <td>MLP1</td>\n",
       "      <td>HR@10</td>\n",
       "      <td>0.5197</td>\n",
       "    </tr>\n",
       "    <tr>\n",
       "      <th>3</th>\n",
       "      <td>MLP1</td>\n",
       "      <td>NDCG@10</td>\n",
       "      <td>0.2901</td>\n",
       "    </tr>\n",
       "    <tr>\n",
       "      <th>4</th>\n",
       "      <td>MLP2</td>\n",
       "      <td>HR@10</td>\n",
       "      <td>0.5745</td>\n",
       "    </tr>\n",
       "    <tr>\n",
       "      <th>5</th>\n",
       "      <td>MLP2</td>\n",
       "      <td>NDCG@10</td>\n",
       "      <td>0.3196</td>\n",
       "    </tr>\n",
       "    <tr>\n",
       "      <th>6</th>\n",
       "      <td>MLP3</td>\n",
       "      <td>HR@10</td>\n",
       "      <td>0.6109</td>\n",
       "    </tr>\n",
       "    <tr>\n",
       "      <th>7</th>\n",
       "      <td>MLP3</td>\n",
       "      <td>NDCG@10</td>\n",
       "      <td>0.3434</td>\n",
       "    </tr>\n",
       "    <tr>\n",
       "      <th>8</th>\n",
       "      <td>MLP4</td>\n",
       "      <td>HR@10</td>\n",
       "      <td>0.6278</td>\n",
       "    </tr>\n",
       "    <tr>\n",
       "      <th>9</th>\n",
       "      <td>MLP4</td>\n",
       "      <td>NDCG@10</td>\n",
       "      <td>0.3554</td>\n",
       "    </tr>\n",
       "  </tbody>\n",
       "</table>\n",
       "</div>"
      ],
      "text/plain": [
       "  Model   Metric   Value\n",
       "0  MLP0    HR@10  0.4538\n",
       "1  MLP0  NDCG@10  0.2525\n",
       "2  MLP1    HR@10  0.5197\n",
       "3  MLP1  NDCG@10  0.2901\n",
       "4  MLP2    HR@10  0.5745\n",
       "5  MLP2  NDCG@10  0.3196\n",
       "6  MLP3    HR@10  0.6109\n",
       "7  MLP3  NDCG@10  0.3434\n",
       "8  MLP4    HR@10  0.6278\n",
       "9  MLP4  NDCG@10  0.3554"
      ]
     },
     "execution_count": 8,
     "metadata": {},
     "output_type": "execute_result"
    }
   ],
   "source": [
    "df2 = pd.DataFrame({\n",
    "    \"Model\": [\"MLP0\",\"MLP1\",\"MLP2\",\"MLP3\",\"MLP4\"],\n",
    "    \"HR@10\":[0.4538,0.5197,0.5745,0.6109,0.6278],\n",
    "    \"NDCG@10\":[0.2525,0.2901,0.3196,0.3434,0.3554]\n",
    "})\n",
    "\n",
    "df2 = df2.loc[:,[\"HR@10\",\"NDCG@10\"]].stack().reset_index().rename(columns={\"level_1\":\"Metric\",0:\"Value\",\"level_0\":\"Model\"})\n",
    "df2[\"Model\"] = df2[\"Model\"].map({0:\"MLP0\",1:\"MLP1\",2:\"MLP2\", 3:\"MLP3\",4:\"MLP4\"})\n",
    "df2"
   ]
  },
  {
   "cell_type": "code",
   "execution_count": 9,
   "metadata": {},
   "outputs": [
    {
     "data": {
      "image/png": "[encoded data removed]",
      "text/plain": [
       "<Figure size 700x350 with 1 Axes>"
      ]
     },
     "metadata": {},
     "output_type": "display_data"
    }
   ],
   "source": [
    "color_list2 = [\"#ff4000\",\"#10323a\"]\n",
    "custom_palette2 = sns.color_palette(color_list2)\n",
    "\n",
    "with plt.style.context(\"fivethirtyeight\"), sns.plotting_context(context=\"paper\"):\n",
    "    fig = plt.figure(figsize=(7, 3.5))\n",
    "    bar = sns.barplot(data = df2,x = 'Model', y = 'Value', hue = 'Metric',width = 0.7,palette=custom_palette2)\n",
    "    plt.legend(bbox_to_anchor=(0.5,0.9),loc = \"upper center\",ncol = 2,fontsize = 10, frameon = False,bbox_transform=fig.transFigure , columnspacing = 5)\n",
    "    plt.ylim(0,0.7)\n",
    "    plt.title(\"The value of two metrics of models\",fontsize = 17,x = 0.47,y = 1.05)\n",
    "        # 在柱形图上标注数值\n",
    "    for p in bar.patches:\n",
    "        bar.annotate(format(p.get_height(), '.2f'), \n",
    "                     (p.get_x() + p.get_width() / 2., p.get_height()), \n",
    "                     ha = 'center', va = 'center', \n",
    "                     xytext = (-0.5, -12), \n",
    "                     textcoords = 'offset points',\n",
    "                     fontsize = 10,\n",
    "                     color = \"white\")\n",
    "    plt.tight_layout()\n",
    "    plt.grid(False)\n",
    "    plt.show()\n",
    "    fig.savefig(\"report/MLP.svg\")"
   ]
  },
  {
   "cell_type": "code",
   "execution_count": null,
   "metadata": {},
   "outputs": [],
   "source": []
  }
 ],
 "metadata": {
  "kernelspec": {
   "display_name": "Python 3",
   "language": "python",
   "name": "python3"
  },
  "language_info": {
   "codemirror_mode": {
    "name": "ipython",
    "version": 3
   },
   "file_extension": ".py",
   "mimetype": "text/x-python",
   "name": "python",
   "nbconvert_exporter": "python",
   "pygments_lexer": "ipython3",
   "version": "3.10.12"
  }
 },
 "nbformat": 4,
 "nbformat_minor": 2
}
