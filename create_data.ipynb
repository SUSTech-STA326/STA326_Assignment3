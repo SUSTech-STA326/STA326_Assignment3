{
 "cells": [
  {
   "cell_type": "code",
   "execution_count": 9,
   "id": "95ce249f",
   "metadata": {},
   "outputs": [],
   "source": [
    "import pandas as pd\n",
    "import numpy as np\n",
    "import tqdm"
   ]
  },
  {
   "cell_type": "code",
   "execution_count": 2,
   "id": "4317e333",
   "metadata": {},
   "outputs": [
    {
     "name": "stdout",
     "output_type": "stream",
     "text": [
      "用户数量: 6040\n",
      "电影数量: 3706\n"
     ]
    }
   ],
   "source": [
    "import pandas as pd\n",
    "\n",
    "ratings = pd.read_csv(\"mv-1m/ratings.dat\", sep=\"::\", engine=\"python\", header=None, names=[\"userId\", \"movieId\", \"rating\", \"timestamp\"])\n",
    "\n",
    "num_users = ratings[\"userId\"].nunique()\n",
    "\n",
    "num_movies = ratings[\"movieId\"].nunique()\n",
    "\n",
    "print(\"用户数量:\", num_users)\n",
    "print(\"电影数量:\", num_movies)"
   ]
  },
  {
   "cell_type": "code",
   "execution_count": 82,
   "id": "8fbc9f11",
   "metadata": {},
   "outputs": [],
   "source": [
    "mat=np.zeros((num_users,num_movies))\n",
    "# 获得训练正样本数据\n",
    "with open(\"data/ml-1m.train.rating\", \"r\") as f:\n",
    "    line = f.readline()\n",
    "    while line != None and line != \"\":\n",
    "        arr = line.split(\"\\t\")\n",
    "        user, item = int(arr[0]), int(arr[1])\n",
    "        mat[user][item]=1\n",
    "        line=f.readline()"
   ]
  },
  {
   "cell_type": "code",
   "execution_count": 83,
   "id": "cce4440b",
   "metadata": {},
   "outputs": [],
   "source": [
    "# 获得测试数据\n",
    "with open(\"data/ml-1m.test.negative\", \"r\") as f:\n",
    "    line = f.readline()\n",
    "    i=0\n",
    "    while line != None and line != \"\":\n",
    "        arr = line.split(\"\\t\")\n",
    "        d=arr[0][1:-1].split(\",\")[1]\n",
    "        mat[i][int(d)]=1\n",
    "        for x in arr[1: ]:\n",
    "            mat[i][int(x)]=1\n",
    "        i+=1\n",
    "        line = f.readline()"
   ]
  },
  {
   "cell_type": "code",
   "execution_count": 85,
   "id": "58a0a280",
   "metadata": {},
   "outputs": [],
   "source": [
    "import json\n",
    "\"\"\"\n",
    "创建train_negatives数据\n",
    "由于提供的数据中并没有训练的负样本数据，原论文也是在训练的时候才生成的\n",
    "这部分代码将总体数据排除掉训练的正样本数据和测试数据后，把剩下的数据作为训练负样本数据并保存到json文件中便于使用\n",
    "\"\"\"\n",
    "data={}\n",
    "for i in range(len(mat)):\n",
    "    alist=[]\n",
    "    for j in range(len(mat[0])):\n",
    "        if mat[i][j]==0:\n",
    "            alist.append(j)\n",
    "    data[i]=alist\n",
    "    \n",
    "# 由于文件太大，所以上传的时候把output.json文件删掉了\n",
    "with open(\"data/output.json\", \"w\") as outfile:\n",
    "    json.dump(data, outfile, indent=4)"
   ]
  }
 ],
 "metadata": {
  "kernelspec": {
   "display_name": "Python 3 (ipykernel)",
   "language": "python",
   "name": "python3"
  },
  "language_info": {
   "codemirror_mode": {
    "name": "ipython",
    "version": 3
   },
   "file_extension": ".py",
   "mimetype": "text/x-python",
   "name": "python",
   "nbconvert_exporter": "python",
   "pygments_lexer": "ipython3",
   "version": "3.10.12"
  }
 },
 "nbformat": 4,
 "nbformat_minor": 5
}
