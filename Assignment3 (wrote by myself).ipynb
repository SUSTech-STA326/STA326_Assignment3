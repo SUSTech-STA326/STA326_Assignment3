{
 "cells": [
  {
   "cell_type": "markdown",
   "metadata": {},
   "source": [
    "### Basic Imports"
   ]
  },
  {
   "cell_type": "code",
   "execution_count": 11,
   "metadata": {
    "execution": {
     "iopub.execute_input": "2024-05-21T07:01:47.236573Z",
     "iopub.status.busy": "2024-05-21T07:01:47.236307Z",
     "iopub.status.idle": "2024-05-21T07:01:47.612267Z",
     "shell.execute_reply": "2024-05-21T07:01:47.611618Z",
     "shell.execute_reply.started": "2024-05-21T07:01:47.236551Z"
    },
    "tags": []
   },
   "outputs": [],
   "source": [
    "import torch\n",
    "import torch.nn as nn\n",
    "import torch.optim as optim\n",
    "from torch.utils.data import DataLoader, Dataset\n",
    "import numpy as np\n",
    "from sklearn.model_selection import train_test_split\n",
    "import pandas as pd\n",
    "import matplotlib.pyplot as plt"
   ]
  },
  {
   "cell_type": "markdown",
   "metadata": {},
   "source": [
    "### 数据预处理"
   ]
  },
  {
   "cell_type": "code",
   "execution_count": 2,
   "metadata": {
    "execution": {
     "iopub.execute_input": "2024-05-21T06:50:48.991512Z",
     "iopub.status.busy": "2024-05-21T06:50:48.991253Z",
     "iopub.status.idle": "2024-05-21T06:50:52.190215Z",
     "shell.execute_reply": "2024-05-21T06:50:52.189074Z",
     "shell.execute_reply.started": "2024-05-21T06:50:48.991489Z"
    },
    "tags": []
   },
   "outputs": [
    {
     "name": "stdout",
     "output_type": "stream",
     "text": [
      "6040 3706\n"
     ]
    },
    {
     "data": {
      "text/html": [
       "<div>\n",
       "<style scoped>\n",
       "    .dataframe tbody tr th:only-of-type {\n",
       "        vertical-align: middle;\n",
       "    }\n",
       "\n",
       "    .dataframe tbody tr th {\n",
       "        vertical-align: top;\n",
       "    }\n",
       "\n",
       "    .dataframe thead th {\n",
       "        text-align: right;\n",
       "    }\n",
       "</style>\n",
       "<table border=\"1\" class=\"dataframe\">\n",
       "  <thead>\n",
       "    <tr style=\"text-align: right;\">\n",
       "      <th></th>\n",
       "      <th>userId</th>\n",
       "      <th>movieId</th>\n",
       "      <th>rating</th>\n",
       "      <th>timestamp</th>\n",
       "    </tr>\n",
       "  </thead>\n",
       "  <tbody>\n",
       "    <tr>\n",
       "      <th>0</th>\n",
       "      <td>1</td>\n",
       "      <td>1193</td>\n",
       "      <td>5</td>\n",
       "      <td>978300760</td>\n",
       "    </tr>\n",
       "    <tr>\n",
       "      <th>1</th>\n",
       "      <td>1</td>\n",
       "      <td>661</td>\n",
       "      <td>3</td>\n",
       "      <td>978302109</td>\n",
       "    </tr>\n",
       "    <tr>\n",
       "      <th>2</th>\n",
       "      <td>1</td>\n",
       "      <td>914</td>\n",
       "      <td>3</td>\n",
       "      <td>978301968</td>\n",
       "    </tr>\n",
       "    <tr>\n",
       "      <th>3</th>\n",
       "      <td>1</td>\n",
       "      <td>3408</td>\n",
       "      <td>4</td>\n",
       "      <td>978300275</td>\n",
       "    </tr>\n",
       "    <tr>\n",
       "      <th>4</th>\n",
       "      <td>1</td>\n",
       "      <td>2355</td>\n",
       "      <td>5</td>\n",
       "      <td>978824291</td>\n",
       "    </tr>\n",
       "  </tbody>\n",
       "</table>\n",
       "</div>"
      ],
      "text/plain": [
       "   userId  movieId  rating  timestamp\n",
       "0       1     1193       5  978300760\n",
       "1       1      661       3  978302109\n",
       "2       1      914       3  978301968\n",
       "3       1     3408       4  978300275\n",
       "4       1     2355       5  978824291"
      ]
     },
     "execution_count": 2,
     "metadata": {},
     "output_type": "execute_result"
    }
   ],
   "source": [
    "# 加载数据集\n",
    "ratings = pd.read_csv('/openbayes/input/input0/ratings.dat', sep='::', names=['userId', 'movieId', 'rating', 'timestamp'], engine='python')\n",
    "\n",
    "# 去除缺失值\n",
    "ratings.dropna(inplace=True)\n",
    "\n",
    "# 检查数据集中是否有异常值\n",
    "print(ratings['userId'].nunique(), ratings['movieId'].nunique())\n",
    "ratings.head(5)"
   ]
  },
  {
   "cell_type": "code",
   "execution_count": 3,
   "metadata": {
    "execution": {
     "iopub.execute_input": "2024-05-21T06:50:52.191633Z",
     "iopub.status.busy": "2024-05-21T06:50:52.191453Z",
     "iopub.status.idle": "2024-05-21T06:50:52.236696Z",
     "shell.execute_reply": "2024-05-21T06:50:52.235471Z",
     "shell.execute_reply.started": "2024-05-21T06:50:52.191613Z"
    },
    "tags": []
   },
   "outputs": [
    {
     "name": "stdout",
     "output_type": "stream",
     "text": [
      "0 0\n"
     ]
    }
   ],
   "source": [
    "# 创建用户和项目ID的映射\n",
    "unique_user_ids = ratings['userId'].unique()\n",
    "unique_item_ids = ratings['movieId'].unique()\n",
    "user_id_map = {id: i for i, id in enumerate(unique_user_ids)}\n",
    "item_id_map = {id: i for i, id in enumerate(unique_item_ids)}\n",
    "\n",
    "# 映射用户和项目ID\n",
    "ratings['userId'] = ratings['userId'].map(user_id_map)\n",
    "ratings['movieId'] = ratings['movieId'].map(item_id_map)\n",
    "\n",
    "# 检查是否有映射失败的ID\n",
    "print(ratings['userId'].isna().sum(), ratings['movieId'].isna().sum())"
   ]
  },
  {
   "cell_type": "code",
   "execution_count": 4,
   "metadata": {
    "execution": {
     "iopub.execute_input": "2024-05-21T06:50:52.238134Z",
     "iopub.status.busy": "2024-05-21T06:50:52.237948Z",
     "iopub.status.idle": "2024-05-21T06:50:52.262604Z",
     "shell.execute_reply": "2024-05-21T06:50:52.261463Z",
     "shell.execute_reply.started": "2024-05-21T06:50:52.238114Z"
    },
    "tags": []
   },
   "outputs": [],
   "source": [
    "# 去除映射失败的ID\n",
    "ratings.dropna(subset=['userId', 'movieId'], inplace=True)\n",
    "ratings['userId'] = ratings['userId'].astype(int)\n",
    "ratings['movieId'] = ratings['movieId'].astype(int)"
   ]
  },
  {
   "cell_type": "code",
   "execution_count": 5,
   "metadata": {
    "execution": {
     "iopub.execute_input": "2024-05-21T06:50:52.264165Z",
     "iopub.status.busy": "2024-05-21T06:50:52.263971Z",
     "iopub.status.idle": "2024-05-21T06:50:52.631351Z",
     "shell.execute_reply": "2024-05-21T06:50:52.630149Z",
     "shell.execute_reply.started": "2024-05-21T06:50:52.264142Z"
    },
    "tags": []
   },
   "outputs": [],
   "source": [
    "# 创建用户-物品对和标签\n",
    "user_item_pairs = list(zip(ratings['userId'], ratings['movieId']))\n",
    "labels = (ratings['rating'] >= 4).astype(int)  # 评分>=4视为正样本\n",
    "\n",
    "# 划分训练集和测试集\n",
    "train_pairs, test_pairs, train_labels, test_labels = train_test_split(user_item_pairs, labels, test_size=0.2, random_state=42)\n",
    "# 定义数据集类\n",
    "class MovieLensDataset(Dataset):\n",
    "    def __init__(self, user_item_pairs, labels):\n",
    "        self.user_item_pairs = user_item_pairs\n",
    "        self.labels = labels\n",
    "\n",
    "    def __len__(self):\n",
    "        return len(self.user_item_pairs)\n",
    "\n",
    "    def __getitem__(self, idx):\n",
    "        user, item = self.user_item_pairs[idx]\n",
    "        label = self.labels.iloc[idx]  # 这里使用iloc确保按行号索引\n",
    "        return torch.tensor(user, dtype=torch.long), torch.tensor(item, dtype=torch.long), torch.tensor(label, dtype=torch.float)\n",
    "\n",
    "# 创建数据加载器\n",
    "train_dataset = MovieLensDataset(train_pairs, train_labels)\n",
    "test_dataset = MovieLensDataset(test_pairs, test_labels)\n",
    "train_dataloader = DataLoader(train_dataset, batch_size=256, shuffle=True)\n",
    "test_dataloader = DataLoader(test_dataset, batch_size=256, shuffle=False)"
   ]
  },
  {
   "cell_type": "markdown",
   "metadata": {},
   "source": [
    "### 实现三种方法（GMF, MLP, NeuMF）"
   ]
  },
  {
   "cell_type": "code",
   "execution_count": 6,
   "metadata": {
    "execution": {
     "iopub.execute_input": "2024-05-21T06:50:52.633002Z",
     "iopub.status.busy": "2024-05-21T06:50:52.632808Z",
     "iopub.status.idle": "2024-05-21T06:50:52.673120Z",
     "shell.execute_reply": "2024-05-21T06:50:52.671945Z",
     "shell.execute_reply.started": "2024-05-21T06:50:52.632981Z"
    },
    "tags": []
   },
   "outputs": [],
   "source": [
    "# 模型定义\n",
    "class GMF(nn.Module):\n",
    "    def __init__(self, num_users, num_items, latent_dim):\n",
    "        super(GMF, self).__init__()\n",
    "        self.user_embedding = nn.Embedding(num_users, latent_dim)\n",
    "        self.item_embedding = nn.Embedding(num_items, latent_dim)\n",
    "        self.output = nn.Linear(latent_dim, 1)\n",
    "    \n",
    "    def forward(self, user, item):\n",
    "        user_latent = self.user_embedding(user)\n",
    "        item_latent = self.item_embedding(item)\n",
    "        element_product = torch.mul(user_latent, item_latent)\n",
    "        output = self.output(element_product)\n",
    "        return torch.sigmoid(output)\n",
    "\n",
    "class MLP(nn.Module):\n",
    "    def __init__(self, num_users, num_items, latent_dim, layers):\n",
    "        super(MLP, self).__init__()\n",
    "        self.user_embedding = nn.Embedding(num_users, latent_dim)\n",
    "        self.item_embedding = nn.Embedding(num_items, latent_dim)\n",
    "        self.layers = nn.Sequential()\n",
    "        input_dim = latent_dim * 2\n",
    "        for layer in layers:\n",
    "            self.layers.add_module(f\"layer_{layer}\", nn.Linear(input_dim, layer))\n",
    "            self.layers.add_module(f\"relu_{layer}\", nn.ReLU())\n",
    "            input_dim = layer\n",
    "        self.output = nn.Linear(input_dim, 1)\n",
    "    \n",
    "    def forward(self, user, item):\n",
    "        user_latent = self.user_embedding(user)\n",
    "        item_latent = self.item_embedding(item)\n",
    "        concatenated = torch.cat([user_latent, item_latent], dim=-1)\n",
    "        x = self.layers(concatenated)\n",
    "        output = self.output(x)\n",
    "        return torch.sigmoid(output)\n",
    "\n",
    "class NeuMF(nn.Module):\n",
    "    def __init__(self, num_users, num_items, latent_dim_gmf, latent_dim_mlp, layers):\n",
    "        super(NeuMF, self).__init__()\n",
    "        self.gmf_user_embedding = nn.Embedding(num_users, latent_dim_gmf)\n",
    "        self.gmf_item_embedding = nn.Embedding(num_items, latent_dim_gmf)\n",
    "        self.mlp_user_embedding = nn.Embedding(num_users, latent_dim_mlp)\n",
    "        self.mlp_item_embedding = nn.Embedding(num_items, latent_dim_mlp)\n",
    "        \n",
    "        self.mlp_layers = nn.Sequential()\n",
    "        input_dim = latent_dim_mlp * 2\n",
    "        for layer in layers:\n",
    "            self.mlp_layers.add_module(f\"layer_{layer}\", nn.Linear(input_dim, layer))\n",
    "            self.mlp_layers.add_module(f\"relu_{layer}\", nn.ReLU())\n",
    "            input_dim = layer\n",
    "        \n",
    "        self.output = nn.Linear(latent_dim_gmf + layers[-1], 1)\n",
    "    \n",
    "    def forward(self, user, item):\n",
    "        gmf_user_latent = self.gmf_user_embedding(user)\n",
    "        gmf_item_latent = self.gmf_item_embedding(item)\n",
    "        gmf_output = torch.mul(gmf_user_latent, gmf_item_latent)\n",
    "        \n",
    "        mlp_user_latent = self.mlp_user_embedding(user)\n",
    "        mlp_item_latent = self.mlp_item_embedding(item)\n",
    "        concatenated = torch.cat([mlp_user_latent, mlp_item_latent], dim=-1)\n",
    "        mlp_output = self.mlp_layers(concatenated)\n",
    "        \n",
    "        final_output = torch.cat([gmf_output, mlp_output], dim=-1)\n",
    "        output = self.output(final_output)\n",
    "        return torch.sigmoid(output)\n"
   ]
  },
  {
   "cell_type": "markdown",
   "metadata": {},
   "source": [
    "### 定义训练"
   ]
  },
  {
   "cell_type": "code",
   "execution_count": 7,
   "metadata": {
    "execution": {
     "iopub.execute_input": "2024-05-21T06:50:52.675788Z",
     "iopub.status.busy": "2024-05-21T06:50:52.675552Z",
     "iopub.status.idle": "2024-05-21T06:50:52.711151Z",
     "shell.execute_reply": "2024-05-21T06:50:52.710024Z",
     "shell.execute_reply.started": "2024-05-21T06:50:52.675763Z"
    },
    "tags": []
   },
   "outputs": [],
   "source": [
    "# 训练和测试函数\n",
    "def train(model, dataloader, criterion, optimizer, device):\n",
    "    model.train()\n",
    "    total_loss = 0\n",
    "    for user, item, label in dataloader:\n",
    "        user, item, label = user.to(device), item.to(device), label.to(device)\n",
    "        optimizer.zero_grad()\n",
    "        prediction = model(user, item)\n",
    "        loss = criterion(prediction, label.unsqueeze(1))\n",
    "        loss.backward()\n",
    "        optimizer.step()\n",
    "        total_loss += loss.item()\n",
    "    return total_loss / len(dataloader)\n",
    "\n",
    "def hit_rate(predictions, labels, top_k=10):\n",
    "    k = min(top_k, predictions.size(0))  # 确保 k 不超过 predictions 的大小\n",
    "    if k == 0:\n",
    "        return 0.0\n",
    "    _, top_k_indices = torch.topk(predictions, k)\n",
    "    hit = labels[top_k_indices].sum().item()\n",
    "    return hit / len(labels)\n",
    "\n",
    "def ndcg(predictions, labels, top_k=10):\n",
    "    k = min(top_k, predictions.size(0))  # 确保 k 不超过 predictions 的大小\n",
    "    if k == 0:\n",
    "        return 0.0\n",
    "    _, top_k_indices = torch.topk(predictions, k)\n",
    "    device = predictions.device  # 获取当前设备\n",
    "    gain = labels[top_k_indices].float().to(device) / torch.log2(torch.arange(2, k + 2).float().to(device))\n",
    "    return gain.sum().item() / len(labels)\n",
    "\n",
    "def test(model, dataloader, device, top_k=10):\n",
    "    model.eval()\n",
    "    HR, NDCG = [], []\n",
    "    with torch.no_grad():\n",
    "        for user, item, label in dataloader:\n",
    "            user, item, label = user.to(device), item.to(device), label.to(device)\n",
    "            prediction = model(user, item)\n",
    "            HR.append(hit_rate(prediction.squeeze().to(device), label.to(device), top_k))  # 确保所有张量在同一设备上\n",
    "            NDCG.append(ndcg(prediction.squeeze().to(device), label.to(device), top_k))  # 确保所有张量在同一设备上\n",
    "    return np.mean(HR), np.mean(NDCG)"
   ]
  },
  {
   "cell_type": "markdown",
   "metadata": {},
   "source": [
    "### 比较三种方法"
   ]
  },
  {
   "cell_type": "code",
   "execution_count": 8,
   "metadata": {
    "execution": {
     "iopub.execute_input": "2024-05-21T06:50:52.712644Z",
     "iopub.status.busy": "2024-05-21T06:50:52.712424Z",
     "iopub.status.idle": "2024-05-21T06:50:52.890415Z",
     "shell.execute_reply": "2024-05-21T06:50:52.889232Z",
     "shell.execute_reply.started": "2024-05-21T06:50:52.712620Z"
    },
    "tags": []
   },
   "outputs": [],
   "source": [
    "# 设置超参数\n",
    "num_users = ratings['userId'].nunique()  # 6040\n",
    "num_items = ratings['movieId'].nunique()  # 3706\n",
    "latent_dim_gmf = 8\n",
    "latent_dim_mlp = 8\n",
    "layers = [64, 32, 16, 8]\n",
    "device = torch.device('cuda' if torch.cuda.is_available() else 'cpu')\n",
    "\n",
    "# 创建模型实例\n",
    "gmf_model = GMF(num_users, num_items, latent_dim_gmf).to(device)\n",
    "mlp_model = MLP(num_users, num_items, latent_dim_mlp, layers).to(device)\n",
    "neumf_model = NeuMF(num_users, num_items, latent_dim_gmf, latent_dim_mlp, layers).to(device)\n",
    "\n",
    "# 定义损失函数和优化器\n",
    "criterion = nn.BCELoss()\n",
    "gmf_optimizer = optim.Adam(gmf_model.parameters(), lr=0.001)\n",
    "mlp_optimizer = optim.Adam(mlp_model.parameters(), lr=0.001)\n",
    "neumf_optimizer = optim.Adam(neumf_model.parameters(), lr=0.001)"
   ]
  },
  {
   "cell_type": "code",
   "execution_count": 9,
   "metadata": {
    "execution": {
     "iopub.execute_input": "2024-05-21T06:50:52.891903Z",
     "iopub.status.busy": "2024-05-21T06:50:52.891706Z",
     "iopub.status.idle": "2024-05-21T06:59:36.847824Z",
     "shell.execute_reply": "2024-05-21T06:59:36.847097Z",
     "shell.execute_reply.started": "2024-05-21T06:50:52.891881Z"
    },
    "tags": []
   },
   "outputs": [
    {
     "name": "stdout",
     "output_type": "stream",
     "text": [
      "Epoch 1/10\n",
      "GMF: HR@10 = 0.0225, NDCG@10 = 0.0102\n",
      "MLP: HR@10 = 0.0349, NDCG@10 = 0.0159\n",
      "NeuMF: HR@10 = 0.0351, NDCG@10 = 0.0160\n",
      "Epoch 2/10\n",
      "GMF: HR@10 = 0.0225, NDCG@10 = 0.0101\n",
      "MLP: HR@10 = 0.0360, NDCG@10 = 0.0165\n",
      "NeuMF: HR@10 = 0.0360, NDCG@10 = 0.0164\n",
      "Epoch 3/10\n",
      "GMF: HR@10 = 0.0224, NDCG@10 = 0.0101\n",
      "MLP: HR@10 = 0.0364, NDCG@10 = 0.0166\n",
      "NeuMF: HR@10 = 0.0365, NDCG@10 = 0.0166\n",
      "Epoch 4/10\n",
      "GMF: HR@10 = 0.0218, NDCG@10 = 0.0099\n",
      "MLP: HR@10 = 0.0366, NDCG@10 = 0.0167\n",
      "NeuMF: HR@10 = 0.0366, NDCG@10 = 0.0167\n",
      "Epoch 5/10\n",
      "GMF: HR@10 = 0.0214, NDCG@10 = 0.0097\n",
      "MLP: HR@10 = 0.0367, NDCG@10 = 0.0167\n",
      "NeuMF: HR@10 = 0.0366, NDCG@10 = 0.0167\n",
      "Epoch 6/10\n",
      "GMF: HR@10 = 0.0219, NDCG@10 = 0.0099\n",
      "MLP: HR@10 = 0.0367, NDCG@10 = 0.0168\n",
      "NeuMF: HR@10 = 0.0367, NDCG@10 = 0.0167\n",
      "Epoch 7/10\n",
      "GMF: HR@10 = 0.0228, NDCG@10 = 0.0103\n",
      "MLP: HR@10 = 0.0366, NDCG@10 = 0.0167\n",
      "NeuMF: HR@10 = 0.0366, NDCG@10 = 0.0167\n",
      "Epoch 8/10\n",
      "GMF: HR@10 = 0.0245, NDCG@10 = 0.0111\n",
      "MLP: HR@10 = 0.0367, NDCG@10 = 0.0168\n",
      "NeuMF: HR@10 = 0.0366, NDCG@10 = 0.0167\n",
      "Epoch 9/10\n",
      "GMF: HR@10 = 0.0274, NDCG@10 = 0.0125\n",
      "MLP: HR@10 = 0.0367, NDCG@10 = 0.0167\n",
      "NeuMF: HR@10 = 0.0366, NDCG@10 = 0.0167\n",
      "Epoch 10/10\n",
      "GMF: HR@10 = 0.0306, NDCG@10 = 0.0141\n",
      "MLP: HR@10 = 0.0367, NDCG@10 = 0.0167\n",
      "NeuMF: HR@10 = 0.0365, NDCG@10 = 0.0167\n"
     ]
    }
   ],
   "source": [
    "num_epochs = 10\n",
    "\n",
    "gmf_train_losses, gmf_hr_list, gmf_ndcg_list = [], [], []\n",
    "mlp_train_losses, mlp_hr_list, mlp_ndcg_list = [], [], []\n",
    "neumf_train_losses, neumf_hr_list, neumf_ndcg_list = [], [], []\n",
    "\n",
    "for epoch in range(num_epochs):\n",
    "    gmf_train_loss = train(gmf_model, train_dataloader, criterion, gmf_optimizer, device)\n",
    "    gmf_hr, gmf_ndcg = test(gmf_model, test_dataloader, device)\n",
    "    gmf_train_losses.append(gmf_train_loss)\n",
    "    gmf_hr_list.append(gmf_hr)\n",
    "    gmf_ndcg_list.append(gmf_ndcg)\n",
    "    \n",
    "    mlp_train_loss = train(mlp_model, train_dataloader, criterion, mlp_optimizer, device)\n",
    "    mlp_hr, mlp_ndcg = test(mlp_model, test_dataloader, device)\n",
    "    mlp_train_losses.append(mlp_train_loss)\n",
    "    mlp_hr_list.append(mlp_hr)\n",
    "    mlp_ndcg_list.append(mlp_ndcg)\n",
    "    \n",
    "    neumf_train_loss = train(neumf_model, train_dataloader, criterion, neumf_optimizer, device)\n",
    "    neumf_hr, neumf_ndcg = test(neumf_model, test_dataloader, device)\n",
    "    neumf_train_losses.append(neumf_train_loss)\n",
    "    neumf_hr_list.append(neumf_hr)\n",
    "    neumf_ndcg_list.append(neumf_ndcg)\n",
    "    \n",
    "    print(f\"Epoch {epoch+1}/{num_epochs}\")\n",
    "    print(f\"GMF: HR@10 = {gmf_hr:.4f}, NDCG@10 = {gmf_ndcg:.4f}\")\n",
    "    print(f\"MLP: HR@10 = {mlp_hr:.4f}, NDCG@10 = {mlp_ndcg:.4f}\")\n",
    "    print(f\"NeuMF: HR@10 = {neumf_hr:.4f}, NDCG@10 = {neumf_ndcg:.4f}\")"
   ]
  },
  {
   "cell_type": "markdown",
   "metadata": {},
   "source": [
    "### 绘图"
   ]
  },
  {
   "cell_type": "code",
   "execution_count": 12,
   "metadata": {
    "execution": {
     "iopub.execute_input": "2024-05-21T07:01:51.396076Z",
     "iopub.status.busy": "2024-05-21T07:01:51.395689Z",
     "iopub.status.idle": "2024-05-21T07:01:51.909096Z",
     "shell.execute_reply": "2024-05-21T07:01:51.908378Z",
     "shell.execute_reply.started": "2024-05-21T07:01:51.396053Z"
    },
    "tags": []
   },
   "outputs": [
    {
     "data": {
      "image/png": "[encoded data removed]",
      "text/plain": [
       "<Figure size 1200x400 with 3 Axes>"
      ]
     },
     "metadata": {},
     "output_type": "display_data"
    }
   ],
   "source": [
    "# 绘制训练损失图\n",
    "plt.figure(figsize=(12, 4))\n",
    "plt.subplot(1, 3, 1)\n",
    "plt.plot(range(1, num_epochs + 1), gmf_train_losses, label='GMF')\n",
    "plt.plot(range(1, num_epochs + 1), mlp_train_losses, label='MLP')\n",
    "plt.plot(range(1, num_epochs + 1), neumf_train_losses, label='NeuMF')\n",
    "plt.xlabel('Epoch')\n",
    "plt.ylabel('Training Loss')\n",
    "plt.legend()\n",
    "plt.title('Training Loss')\n",
    "\n",
    "# 绘制HR@10图\n",
    "plt.subplot(1, 3, 2)\n",
    "plt.plot(range(1, num_epochs + 1), gmf_hr_list, label='GMF')\n",
    "plt.plot(range(1, num_epochs + 1), mlp_hr_list, label='MLP')\n",
    "plt.plot(range(1, num_epochs + 1), neumf_hr_list, label='NeuMF')\n",
    "plt.xlabel('Epoch')\n",
    "plt.ylabel('HR@10')\n",
    "plt.legend()\n",
    "plt.title('HR@10')\n",
    "\n",
    "# 绘制NDCG@10图\n",
    "plt.subplot(1, 3, 3)\n",
    "plt.plot(range(1, num_epochs + 1), gmf_ndcg_list, label='GMF')\n",
    "plt.plot(range(1, num_epochs + 1), mlp_ndcg_list, label='MLP')\n",
    "plt.plot(range(1, num_epochs + 1), neumf_ndcg_list, label='NeuMF')\n",
    "plt.xlabel('Epoch')\n",
    "plt.ylabel('NDCG@10')\n",
    "plt.legend()\n",
    "plt.title('NDCG@10')\n",
    "\n",
    "plt.tight_layout()\n",
    "plt.show()"
   ]
  },
  {
   "cell_type": "markdown",
   "metadata": {},
   "source": [
    "### 消融实验"
   ]
  },
  {
   "cell_type": "markdown",
   "metadata": {},
   "source": [
    "#### 定义不同层数的MLP模型"
   ]
  },
  {
   "cell_type": "code",
   "execution_count": 15,
   "metadata": {
    "execution": {
     "iopub.execute_input": "2024-05-21T07:10:36.291829Z",
     "iopub.status.busy": "2024-05-21T07:10:36.291465Z",
     "iopub.status.idle": "2024-05-21T07:10:36.298032Z",
     "shell.execute_reply": "2024-05-21T07:10:36.297489Z",
     "shell.execute_reply.started": "2024-05-21T07:10:36.291808Z"
    },
    "tags": []
   },
   "outputs": [],
   "source": [
    "class MLP(nn.Module):\n",
    "    def __init__(self, num_users, num_items, latent_dim, layers):\n",
    "        super(MLP, self).__init__()\n",
    "        self.user_embedding = nn.Embedding(num_users, latent_dim)\n",
    "        self.item_embedding = nn.Embedding(num_items, latent_dim)\n",
    "        self.layers = nn.Sequential()\n",
    "        input_dim = latent_dim * 2\n",
    "        for layer in layers:\n",
    "            self.layers.add_module(f\"layer_{layer}\", nn.Linear(input_dim, layer))\n",
    "            self.layers.add_module(f\"relu_{layer}\", nn.ReLU())\n",
    "            input_dim = layer\n",
    "        self.output = nn.Linear(input_dim, 1)\n",
    "    \n",
    "    def forward(self, user, item):\n",
    "        user_latent = self.user_embedding(user)\n",
    "        item_latent = self.item_embedding(item)\n",
    "        concatenated = torch.cat([user_latent, item_latent], dim=-1)\n",
    "        x = self.layers(concatenated)\n",
    "        output = self.output(x)\n",
    "        return torch.sigmoid(output)\n"
   ]
  },
  {
   "cell_type": "code",
   "execution_count": 16,
   "metadata": {
    "execution": {
     "iopub.execute_input": "2024-05-21T07:10:37.901431Z",
     "iopub.status.busy": "2024-05-21T07:10:37.901016Z",
     "iopub.status.idle": "2024-05-21T07:10:37.909184Z",
     "shell.execute_reply": "2024-05-21T07:10:37.908163Z",
     "shell.execute_reply.started": "2024-05-21T07:10:37.901390Z"
    },
    "tags": []
   },
   "outputs": [],
   "source": [
    "def ndcg_score(predictions, labels, top_k=10):\n",
    "    k = min(top_k, predictions.size(0))  # 确保 k 不超过 predictions 的大小\n",
    "    if k == 0:\n",
    "        return 0.0\n",
    "    _, top_k_indices = torch.topk(predictions, k)\n",
    "    device = predictions.device  # 获取当前设备\n",
    "    gain = labels[top_k_indices].float().to(device) / torch.log2(torch.arange(2, k + 2).float().to(device))\n",
    "    return gain.sum().item() / len(labels)\n"
   ]
  },
  {
   "cell_type": "code",
   "execution_count": 17,
   "metadata": {
    "execution": {
     "iopub.execute_input": "2024-05-21T07:10:39.490250Z",
     "iopub.status.busy": "2024-05-21T07:10:39.489849Z",
     "iopub.status.idle": "2024-05-21T07:10:39.499115Z",
     "shell.execute_reply": "2024-05-21T07:10:39.497970Z",
     "shell.execute_reply.started": "2024-05-21T07:10:39.490209Z"
    },
    "tags": []
   },
   "outputs": [],
   "source": [
    "def test(model, dataloader, device, top_k=10):\n",
    "    model.eval()\n",
    "    HR, NDCG = [], []\n",
    "    with torch.no_grad():\n",
    "        for user, item, label in dataloader:\n",
    "            user, item, label = user.to(device), item.to(device), label.to(device)\n",
    "            prediction = model(user, item)\n",
    "            HR.append(hit_rate(prediction.squeeze().to(device), label.to(device), top_k))  # 确保所有张量在同一设备上\n",
    "            NDCG.append(ndcg_score(prediction.squeeze().to(device), label.to(device), top_k))  # 确保所有张量在同一设备上\n",
    "    return np.mean(HR), np.mean(NDCG)\n"
   ]
  },
  {
   "cell_type": "markdown",
   "metadata": {},
   "source": [
    "#### 修改层数进行消融研究"
   ]
  },
  {
   "cell_type": "code",
   "execution_count": 18,
   "metadata": {
    "execution": {
     "iopub.execute_input": "2024-05-21T07:10:41.163839Z",
     "iopub.status.busy": "2024-05-21T07:10:41.163042Z",
     "iopub.status.idle": "2024-05-21T07:12:16.769314Z",
     "shell.execute_reply": "2024-05-21T07:12:16.768733Z",
     "shell.execute_reply.started": "2024-05-21T07:10:41.163793Z"
    },
    "tags": []
   },
   "outputs": [
    {
     "name": "stdout",
     "output_type": "stream",
     "text": [
      "Training MLP-0...\n",
      "MLP-0: HR@10 = 0.0347\n",
      "Training MLP-1...\n",
      "MLP-1: HR@10 = 0.0350\n",
      "Training MLP-2...\n",
      "MLP-2: HR@10 = 0.0350\n",
      "Training MLP-3...\n",
      "MLP-3: HR@10 = 0.0350\n",
      "Training MLP-4...\n",
      "MLP-4: HR@10 = 0.0347\n",
      "MLP-0: HR@10 = 0.0347\n",
      "MLP-1: HR@10 = 0.0350\n",
      "MLP-2: HR@10 = 0.0350\n",
      "MLP-3: HR@10 = 0.0350\n",
      "MLP-4: HR@10 = 0.0347\n"
     ]
    }
   ],
   "source": [
    "# 定义不同层数的MLP模型\n",
    "layer_configs = {\n",
    "    'MLP-0': [],\n",
    "    'MLP-1': [64],\n",
    "    'MLP-2': [64, 32],\n",
    "    'MLP-3': [64, 32, 16],\n",
    "    'MLP-4': [64, 32, 16, 8]\n",
    "}\n",
    "\n",
    "results = {}\n",
    "\n",
    "for config_name, layers in layer_configs.items():\n",
    "    print(f\"Training {config_name}...\")\n",
    "    model = MLP(num_users, num_items, latent_dim_mlp, layers).to(device)\n",
    "    optimizer = optim.Adam(model.parameters(), lr=0.001)\n",
    "    train_loss = train(model, train_dataloader, criterion, optimizer, device)\n",
    "    hr, ndcg_val = test(model, test_dataloader, device)\n",
    "    results[config_name] = hr\n",
    "    print(f\"{config_name}: HR@10 = {hr:.4f}\")\n",
    "\n",
    "# 打印结果\n",
    "for config_name, hr in results.items():\n",
    "    print(f\"{config_name}: HR@10 = {hr:.4f}\")\n"
   ]
  },
  {
   "cell_type": "markdown",
   "metadata": {},
   "source": []
  }
 ],
 "metadata": {
  "kernelspec": {
   "display_name": "Python 3 (ipykernel)",
   "language": "python",
   "name": "python3"
  },
  "language_info": {
   "codemirror_mode": {
    "name": "ipython",
    "version": 3
   },
   "file_extension": ".py",
   "mimetype": "text/x-python",
   "name": "python",
   "nbconvert_exporter": "python",
   "pygments_lexer": "ipython3",
   "version": "3.8.18"
  }
 },
 "nbformat": 4,
 "nbformat_minor": 4
}
